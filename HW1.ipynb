{
  "cells": [
    {
      "cell_type": "markdown",
      "metadata": {
        "id": "view-in-github",
        "colab_type": "text"
      },
      "source": [
        "<a href=\"https://colab.research.google.com/github/Ksenia-90/Machine_learning-_in_business/blob/my/HW1.ipynb\" target=\"_parent\"><img src=\"https://colab.research.google.com/assets/colab-badge.svg\" alt=\"Open In Colab\"/></a>"
      ]
    },
    {
      "cell_type": "markdown",
      "metadata": {
        "id": "slx9rThxEL0J"
      },
      "source": [
        "<b> В задании нужно загрузить датасет с данными оттока и ответить на несколько вопросов (написать код). При этом сам датасет уже есть и его необязательно качать с репозитория</b>"
      ]
    },
    {
      "cell_type": "markdown",
      "metadata": {
        "id": "3aJfI5amEL0K"
      },
      "source": [
        "Цель задания: проверить базовые навыки работы студентов с Pandas, умение проводить такой же базовый EDA (exploratory data analysis), делать feature engineering и обучать и валидировать модель."
      ]
    },
    {
      "cell_type": "markdown",
      "metadata": {
        "id": "1Yp3EneHEL0L"
      },
      "source": [
        "Список столбцов с типами данных в датасете:\n",
        "\n",
        "- customerID           object\n",
        "- gender               object\n",
        "- SeniorCitizen         int64\n",
        "- Partner              object\n",
        "- Dependents           object\n",
        "- tenure                int64\n",
        "- PhoneService         object\n",
        "- MultipleLines        object\n",
        "- InternetService      object\n",
        "- OnlineSecurity       object\n",
        "- OnlineBackup         object\n",
        "- DeviceProtection     object\n",
        "- TechSupport          object\n",
        "- StreamingTV          object\n",
        "- StreamingMovies      object\n",
        "- Contract             object\n",
        "- PaperlessBilling     object\n",
        "- PaymentMethod        object\n",
        "- MonthlyCharges      float64\n",
        "- TotalCharges         object\n",
        "- Churn                object"
      ]
    },
    {
      "cell_type": "code",
      "source": [
        "from google.colab import drive\n",
        "drive.mount('/content/drive')"
      ],
      "metadata": {
        "colab": {
          "base_uri": "https://localhost:8080/"
        },
        "id": "wUhj10gKfb35",
        "outputId": "fd803072-51a4-45d7-9234-d1caee8fa21b"
      },
      "execution_count": 264,
      "outputs": [
        {
          "output_type": "stream",
          "name": "stdout",
          "text": [
            "Drive already mounted at /content/drive; to attempt to forcibly remount, call drive.mount(\"/content/drive\", force_remount=True).\n"
          ]
        }
      ]
    },
    {
      "cell_type": "code",
      "execution_count": 265,
      "metadata": {
        "scrolled": true,
        "id": "5Kj7i034EL0L"
      },
      "outputs": [],
      "source": [
        "import pandas as pd\n",
        "import numpy as np\n",
        "\n",
        "#df = pd.read_csv(\"./WA_Fn-UseC_-Telco-Customer-Churn.csv\")\n",
        "\n",
        "df = pd.read_csv(\"/content/drive/My Drive/Colab Notebooks/WA_Fn-UseC_-Telco-Customer-Churn.csv\")"
      ]
    },
    {
      "cell_type": "markdown",
      "metadata": {
        "id": "qH2uJfYHEL0O"
      },
      "source": [
        "##### 1. Какое соотношение мужчин и женщин в представленном наборе данных?"
      ]
    },
    {
      "cell_type": "code",
      "source": [
        "#Ваш код здесь\n",
        "df['gender'].value_counts()"
      ],
      "metadata": {
        "colab": {
          "base_uri": "https://localhost:8080/"
        },
        "id": "C3amGicrMXES",
        "outputId": "6bcc8599-4f0f-4602-b582-eb4fea7b1a16"
      },
      "execution_count": 266,
      "outputs": [
        {
          "output_type": "execute_result",
          "data": {
            "text/plain": [
              "Male      3555\n",
              "Female    3488\n",
              "Name: gender, dtype: int64"
            ]
          },
          "metadata": {},
          "execution_count": 266
        }
      ]
    },
    {
      "cell_type": "markdown",
      "metadata": {
        "id": "MgTzv0QQEL0P"
      },
      "source": [
        "##### 2. Какое количество уникальных значений у поля InternetService?"
      ]
    },
    {
      "cell_type": "code",
      "execution_count": 267,
      "metadata": {
        "colab": {
          "base_uri": "https://localhost:8080/"
        },
        "id": "ZU5wA8zmEL0Q",
        "outputId": "2e4b408d-4c67-4d9d-8472-c4fe82ee189b"
      },
      "outputs": [
        {
          "output_type": "execute_result",
          "data": {
            "text/plain": [
              "count            7043\n",
              "unique              3\n",
              "top       Fiber optic\n",
              "freq             3096\n",
              "Name: InternetService, dtype: object"
            ]
          },
          "metadata": {},
          "execution_count": 267
        }
      ],
      "source": [
        "#Ваш код здесь\n",
        "df['InternetService'].describe()"
      ]
    },
    {
      "cell_type": "code",
      "source": [
        "#Ваш код здесь\n",
        "df['InternetService'].unique()"
      ],
      "metadata": {
        "colab": {
          "base_uri": "https://localhost:8080/"
        },
        "id": "2XRl4flePTIE",
        "outputId": "3bac3e90-144c-4257-9dcd-aff752c096dd"
      },
      "execution_count": 268,
      "outputs": [
        {
          "output_type": "execute_result",
          "data": {
            "text/plain": [
              "array(['DSL', 'Fiber optic', 'No'], dtype=object)"
            ]
          },
          "metadata": {},
          "execution_count": 268
        }
      ]
    },
    {
      "cell_type": "markdown",
      "metadata": {
        "id": "RxrHNUHGEL0Q"
      },
      "source": [
        "##### 3. Выведите статистики по полю TotalCharges (median, mean, std)."
      ]
    },
    {
      "cell_type": "code",
      "source": [
        "#Ваш код здесь\n",
        "df['TotalCharges'].describe()"
      ],
      "metadata": {
        "colab": {
          "base_uri": "https://localhost:8080/"
        },
        "id": "GuTk6ZZsUsK6",
        "outputId": "6e7735a7-0050-424b-edba-9e3eb8cdce69"
      },
      "execution_count": 269,
      "outputs": [
        {
          "output_type": "execute_result",
          "data": {
            "text/plain": [
              "count     7043\n",
              "unique    6531\n",
              "top           \n",
              "freq        11\n",
              "Name: TotalCharges, dtype: object"
            ]
          },
          "metadata": {},
          "execution_count": 269
        }
      ]
    },
    {
      "cell_type": "markdown",
      "metadata": {
        "id": "zeFKA74qEL0R"
      },
      "source": [
        "В чем странность того, что вы получили? (подсказка: смотреть нужно на тип данных)"
      ]
    },
    {
      "cell_type": "markdown",
      "source": [
        "**Ответ**: dtype: object, следовательно median, mean, std расчитать не получится"
      ],
      "metadata": {
        "id": "rFChCw94Uzsb"
      }
    },
    {
      "cell_type": "markdown",
      "metadata": {
        "id": "xbd0cCOtEL0R"
      },
      "source": [
        "##### 4. Сделайте замену значений поля PhoneService  на числовые (Yes->1, No->0)"
      ]
    },
    {
      "cell_type": "code",
      "execution_count": 270,
      "metadata": {
        "colab": {
          "base_uri": "https://localhost:8080/"
        },
        "id": "Eln842zHEL0S",
        "outputId": "c1185a7a-0e49-4c51-e4a8-95e9f8f394ca"
      },
      "outputs": [
        {
          "output_type": "execute_result",
          "data": {
            "text/plain": [
              "0       0\n",
              "1       1\n",
              "2       1\n",
              "3       0\n",
              "4       1\n",
              "       ..\n",
              "7038    1\n",
              "7039    1\n",
              "7040    0\n",
              "7041    1\n",
              "7042    1\n",
              "Name: PhoneService, Length: 7043, dtype: int64"
            ]
          },
          "metadata": {},
          "execution_count": 270
        }
      ],
      "source": [
        "#Ваш код здесь\n",
        "df['PhoneService'] = df['PhoneService'].replace({'Yes': 1, 'No': 0})\n",
        "df['PhoneService']"
      ]
    },
    {
      "cell_type": "markdown",
      "metadata": {
        "id": "yPlbM482EL0S"
      },
      "source": [
        "##### 5. Сделайте замену пробелов в поле TotalCharges на np.nan и приведите поле к типу данных float32. Затем заполните оставшиеся пропуски значением 0 с помощью метода fillna у столбца. Снова выведите статистики и сравните с тем, что вы видели в вопросе 3"
      ]
    },
    {
      "cell_type": "code",
      "execution_count": 271,
      "metadata": {
        "id": "-iN6881tEL0S"
      },
      "outputs": [],
      "source": [
        "#Ваш код здесь\n",
        "df['TotalCharges']=np.where(df['TotalCharges'] == \" \",np.nan,df['TotalCharges'])\n"
      ]
    },
    {
      "cell_type": "code",
      "source": [
        "df['TotalCharges']=df['TotalCharges'].astype(np.float32)"
      ],
      "metadata": {
        "id": "-_aBDgR5VgmO"
      },
      "execution_count": 295,
      "outputs": []
    },
    {
      "cell_type": "code",
      "source": [
        "df['TotalCharges'].dtypes"
      ],
      "metadata": {
        "colab": {
          "base_uri": "https://localhost:8080/"
        },
        "id": "3-PBCPzOghMP",
        "outputId": "239869e8-9c7e-4d8d-f5b2-d5f997b3f234"
      },
      "execution_count": 296,
      "outputs": [
        {
          "output_type": "execute_result",
          "data": {
            "text/plain": [
              "dtype('float32')"
            ]
          },
          "metadata": {},
          "execution_count": 296
        }
      ]
    },
    {
      "cell_type": "code",
      "source": [
        "df['TotalCharges']=df['TotalCharges'].fillna(0)"
      ],
      "metadata": {
        "id": "LCpRyZzQVjVm"
      },
      "execution_count": 297,
      "outputs": []
    },
    {
      "cell_type": "code",
      "source": [
        "df['TotalCharges'].describe()"
      ],
      "metadata": {
        "colab": {
          "base_uri": "https://localhost:8080/"
        },
        "id": "RYJW5xAvVmwT",
        "outputId": "d4361d58-7a2f-4f43-db3c-28ffae393caf"
      },
      "execution_count": 298,
      "outputs": [
        {
          "output_type": "execute_result",
          "data": {
            "text/plain": [
              "count    7043.000000\n",
              "mean     2279.732178\n",
              "std      2266.794434\n",
              "min         0.000000\n",
              "25%       398.549988\n",
              "50%      1394.550049\n",
              "75%      3786.599976\n",
              "max      8684.799805\n",
              "Name: TotalCharges, dtype: float64"
            ]
          },
          "metadata": {},
          "execution_count": 298
        }
      ]
    },
    {
      "cell_type": "markdown",
      "metadata": {
        "id": "NhmjGCI3EL0T"
      },
      "source": [
        "##### 6. Сделайте замену значений поля Churn на числовые (Yes -> 1, No - 0)"
      ]
    },
    {
      "cell_type": "code",
      "execution_count": 275,
      "metadata": {
        "id": "AteR_AlQEL0T"
      },
      "outputs": [],
      "source": [
        "#Ваш код здесь\n",
        "df['Churn'] = df['Churn'].replace({'Yes': 1, 'No': 0})"
      ]
    },
    {
      "cell_type": "markdown",
      "metadata": {
        "id": "i5nZNnozEL0T"
      },
      "source": [
        "##### 7. Сделайте замену значений полей StreamingMovies, StreamingTV, TechSupport  на числовые (Yes -> 1, No -> 0, No internet service->0)"
      ]
    },
    {
      "cell_type": "code",
      "execution_count": 276,
      "metadata": {
        "id": "PFltyk8JEL0T"
      },
      "outputs": [],
      "source": [
        "#Ваш код здесь\n",
        "df['StreamingMovies'] = df['StreamingMovies'].replace({'Yes': 1, 'No': 0,'No internet service': 0})\n",
        "df['StreamingTV'] = df['StreamingTV'].replace({'Yes': 1, 'No': 0,'No internet service': 0})\n",
        "df['TechSupport'] = df['TechSupport'].replace({'Yes': 1, 'No': 0,'No internet service': 0})"
      ]
    },
    {
      "cell_type": "markdown",
      "metadata": {
        "id": "JcP-OsK8EL0U"
      },
      "source": [
        "##### 8. Заполните пропуски в поле PhoneService значением 0"
      ]
    },
    {
      "cell_type": "code",
      "source": [
        "#Ваш код здесь\n",
        "df['PhoneService'].isnull().value_counts()\n",
        "df['PhoneService']=df['PhoneService'].fillna(0)"
      ],
      "metadata": {
        "id": "YN0VE71uUSCI"
      },
      "execution_count": 277,
      "outputs": []
    },
    {
      "cell_type": "code",
      "source": [
        "df['PhoneService']"
      ],
      "metadata": {
        "colab": {
          "base_uri": "https://localhost:8080/"
        },
        "id": "XR4MmHupWIP1",
        "outputId": "010cb590-ce51-4dc3-fb79-96f2cd19786b"
      },
      "execution_count": 278,
      "outputs": [
        {
          "output_type": "execute_result",
          "data": {
            "text/plain": [
              "0       0\n",
              "1       1\n",
              "2       1\n",
              "3       0\n",
              "4       1\n",
              "       ..\n",
              "7038    1\n",
              "7039    1\n",
              "7040    0\n",
              "7041    1\n",
              "7042    1\n",
              "Name: PhoneService, Length: 7043, dtype: int64"
            ]
          },
          "metadata": {},
          "execution_count": 278
        }
      ]
    },
    {
      "cell_type": "markdown",
      "metadata": {
        "id": "xWC6sxm7EL0U"
      },
      "source": [
        "#### 8. Для нашего датасета оставьте только указанный ниже список полей, удалив все другие и выведите верхние 3 строки"
      ]
    },
    {
      "cell_type": "code",
      "execution_count": 279,
      "metadata": {
        "id": "M7VNbbKvEL0U"
      },
      "outputs": [],
      "source": [
        "columns = ['gender', 'tenure', 'PhoneService', 'TotalCharges', \n",
        "           'StreamingMovies', 'StreamingTV', 'TechSupport', 'Churn']"
      ]
    },
    {
      "cell_type": "code",
      "source": [
        "#Ваш код здесь\n",
        "new_df=df[columns]\n",
        "new_df.head()"
      ],
      "metadata": {
        "colab": {
          "base_uri": "https://localhost:8080/",
          "height": 200
        },
        "id": "tGBfeIIiWUHy",
        "outputId": "44d913e6-6f5d-4034-9a46-a01f1e515cd1"
      },
      "execution_count": 280,
      "outputs": [
        {
          "output_type": "execute_result",
          "data": {
            "text/html": [
              "\n",
              "  <div id=\"df-718f35ff-fd7e-4878-ac13-691bd2d657a6\">\n",
              "    <div class=\"colab-df-container\">\n",
              "      <div>\n",
              "<style scoped>\n",
              "    .dataframe tbody tr th:only-of-type {\n",
              "        vertical-align: middle;\n",
              "    }\n",
              "\n",
              "    .dataframe tbody tr th {\n",
              "        vertical-align: top;\n",
              "    }\n",
              "\n",
              "    .dataframe thead th {\n",
              "        text-align: right;\n",
              "    }\n",
              "</style>\n",
              "<table border=\"1\" class=\"dataframe\">\n",
              "  <thead>\n",
              "    <tr style=\"text-align: right;\">\n",
              "      <th></th>\n",
              "      <th>gender</th>\n",
              "      <th>tenure</th>\n",
              "      <th>PhoneService</th>\n",
              "      <th>TotalCharges</th>\n",
              "      <th>StreamingMovies</th>\n",
              "      <th>StreamingTV</th>\n",
              "      <th>TechSupport</th>\n",
              "      <th>Churn</th>\n",
              "    </tr>\n",
              "  </thead>\n",
              "  <tbody>\n",
              "    <tr>\n",
              "      <th>0</th>\n",
              "      <td>Female</td>\n",
              "      <td>1</td>\n",
              "      <td>0</td>\n",
              "      <td>29.850000</td>\n",
              "      <td>0</td>\n",
              "      <td>0</td>\n",
              "      <td>0</td>\n",
              "      <td>0</td>\n",
              "    </tr>\n",
              "    <tr>\n",
              "      <th>1</th>\n",
              "      <td>Male</td>\n",
              "      <td>34</td>\n",
              "      <td>1</td>\n",
              "      <td>1889.500000</td>\n",
              "      <td>0</td>\n",
              "      <td>0</td>\n",
              "      <td>0</td>\n",
              "      <td>0</td>\n",
              "    </tr>\n",
              "    <tr>\n",
              "      <th>2</th>\n",
              "      <td>Male</td>\n",
              "      <td>2</td>\n",
              "      <td>1</td>\n",
              "      <td>108.150002</td>\n",
              "      <td>0</td>\n",
              "      <td>0</td>\n",
              "      <td>0</td>\n",
              "      <td>1</td>\n",
              "    </tr>\n",
              "    <tr>\n",
              "      <th>3</th>\n",
              "      <td>Male</td>\n",
              "      <td>45</td>\n",
              "      <td>0</td>\n",
              "      <td>1840.750000</td>\n",
              "      <td>0</td>\n",
              "      <td>0</td>\n",
              "      <td>1</td>\n",
              "      <td>0</td>\n",
              "    </tr>\n",
              "    <tr>\n",
              "      <th>4</th>\n",
              "      <td>Female</td>\n",
              "      <td>2</td>\n",
              "      <td>1</td>\n",
              "      <td>151.649994</td>\n",
              "      <td>0</td>\n",
              "      <td>0</td>\n",
              "      <td>0</td>\n",
              "      <td>1</td>\n",
              "    </tr>\n",
              "  </tbody>\n",
              "</table>\n",
              "</div>\n",
              "      <button class=\"colab-df-convert\" onclick=\"convertToInteractive('df-718f35ff-fd7e-4878-ac13-691bd2d657a6')\"\n",
              "              title=\"Convert this dataframe to an interactive table.\"\n",
              "              style=\"display:none;\">\n",
              "        \n",
              "  <svg xmlns=\"http://www.w3.org/2000/svg\" height=\"24px\"viewBox=\"0 0 24 24\"\n",
              "       width=\"24px\">\n",
              "    <path d=\"M0 0h24v24H0V0z\" fill=\"none\"/>\n",
              "    <path d=\"M18.56 5.44l.94 2.06.94-2.06 2.06-.94-2.06-.94-.94-2.06-.94 2.06-2.06.94zm-11 1L8.5 8.5l.94-2.06 2.06-.94-2.06-.94L8.5 2.5l-.94 2.06-2.06.94zm10 10l.94 2.06.94-2.06 2.06-.94-2.06-.94-.94-2.06-.94 2.06-2.06.94z\"/><path d=\"M17.41 7.96l-1.37-1.37c-.4-.4-.92-.59-1.43-.59-.52 0-1.04.2-1.43.59L10.3 9.45l-7.72 7.72c-.78.78-.78 2.05 0 2.83L4 21.41c.39.39.9.59 1.41.59.51 0 1.02-.2 1.41-.59l7.78-7.78 2.81-2.81c.8-.78.8-2.07 0-2.86zM5.41 20L4 18.59l7.72-7.72 1.47 1.35L5.41 20z\"/>\n",
              "  </svg>\n",
              "      </button>\n",
              "      \n",
              "  <style>\n",
              "    .colab-df-container {\n",
              "      display:flex;\n",
              "      flex-wrap:wrap;\n",
              "      gap: 12px;\n",
              "    }\n",
              "\n",
              "    .colab-df-convert {\n",
              "      background-color: #E8F0FE;\n",
              "      border: none;\n",
              "      border-radius: 50%;\n",
              "      cursor: pointer;\n",
              "      display: none;\n",
              "      fill: #1967D2;\n",
              "      height: 32px;\n",
              "      padding: 0 0 0 0;\n",
              "      width: 32px;\n",
              "    }\n",
              "\n",
              "    .colab-df-convert:hover {\n",
              "      background-color: #E2EBFA;\n",
              "      box-shadow: 0px 1px 2px rgba(60, 64, 67, 0.3), 0px 1px 3px 1px rgba(60, 64, 67, 0.15);\n",
              "      fill: #174EA6;\n",
              "    }\n",
              "\n",
              "    [theme=dark] .colab-df-convert {\n",
              "      background-color: #3B4455;\n",
              "      fill: #D2E3FC;\n",
              "    }\n",
              "\n",
              "    [theme=dark] .colab-df-convert:hover {\n",
              "      background-color: #434B5C;\n",
              "      box-shadow: 0px 1px 3px 1px rgba(0, 0, 0, 0.15);\n",
              "      filter: drop-shadow(0px 1px 2px rgba(0, 0, 0, 0.3));\n",
              "      fill: #FFFFFF;\n",
              "    }\n",
              "  </style>\n",
              "\n",
              "      <script>\n",
              "        const buttonEl =\n",
              "          document.querySelector('#df-718f35ff-fd7e-4878-ac13-691bd2d657a6 button.colab-df-convert');\n",
              "        buttonEl.style.display =\n",
              "          google.colab.kernel.accessAllowed ? 'block' : 'none';\n",
              "\n",
              "        async function convertToInteractive(key) {\n",
              "          const element = document.querySelector('#df-718f35ff-fd7e-4878-ac13-691bd2d657a6');\n",
              "          const dataTable =\n",
              "            await google.colab.kernel.invokeFunction('convertToInteractive',\n",
              "                                                     [key], {});\n",
              "          if (!dataTable) return;\n",
              "\n",
              "          const docLinkHtml = 'Like what you see? Visit the ' +\n",
              "            '<a target=\"_blank\" href=https://colab.research.google.com/notebooks/data_table.ipynb>data table notebook</a>'\n",
              "            + ' to learn more about interactive tables.';\n",
              "          element.innerHTML = '';\n",
              "          dataTable['output_type'] = 'display_data';\n",
              "          await google.colab.output.renderOutput(dataTable, element);\n",
              "          const docLink = document.createElement('div');\n",
              "          docLink.innerHTML = docLinkHtml;\n",
              "          element.appendChild(docLink);\n",
              "        }\n",
              "      </script>\n",
              "    </div>\n",
              "  </div>\n",
              "  "
            ],
            "text/plain": [
              "   gender  tenure  PhoneService  ...  StreamingTV  TechSupport  Churn\n",
              "0  Female       1             0  ...            0            0      0\n",
              "1    Male      34             1  ...            0            0      0\n",
              "2    Male       2             1  ...            0            0      1\n",
              "3    Male      45             0  ...            0            1      0\n",
              "4  Female       2             1  ...            0            0      1\n",
              "\n",
              "[5 rows x 8 columns]"
            ]
          },
          "metadata": {},
          "execution_count": 280
        }
      ]
    },
    {
      "cell_type": "markdown",
      "metadata": {
        "id": "MRs6VVv0EL0V"
      },
      "source": [
        "##### 9. Разделите датасет на тренировочную и тестовую выборку (подсказка - воспользуйтесь train_test_split из sklearn.model_selection. Ссылка - https://scikit-learn.org/stable/modules/generated/sklearn.model_selection.train_test_split.html)"
      ]
    },
    {
      "cell_type": "code",
      "execution_count": 281,
      "metadata": {
        "id": "K7vhgt-OEL0V"
      },
      "outputs": [],
      "source": [
        "from sklearn.model_selection import train_test_split\n",
        "\n",
        "features = ['gender', 'tenure', 'PhoneService', 'TotalCharges', 'StreamingMovies', 'StreamingTV', 'TechSupport']\n",
        "target = 'Churn'\n"
      ]
    },
    {
      "cell_type": "code",
      "source": [
        "#Ваш код здесь\n",
        "X_train, X_test, y_train, y_test = train_test_split(new_df[features], new_df[target], test_size=0.33, random_state=42)"
      ],
      "metadata": {
        "id": "gM7XtIU9WjY8"
      },
      "execution_count": 282,
      "outputs": []
    },
    {
      "cell_type": "markdown",
      "metadata": {
        "id": "7NWYKyGOEL0V"
      },
      "source": [
        "##### 10. соберите pipeline для поля gender (нужно разобраться и изучить https://scikit-learn.org/stable/modules/generated/sklearn.pipeline.Pipeline.html ) из классов ColumnSelector и OHEEncoder, которые уже написаны ниже заранее"
      ]
    },
    {
      "cell_type": "code",
      "execution_count": 283,
      "metadata": {
        "id": "8i8Ay9GZEL0W"
      },
      "outputs": [],
      "source": [
        "from sklearn.base import BaseEstimator, TransformerMixin\n",
        "from sklearn.pipeline import Pipeline\n",
        "\n",
        "class ColumnSelector(BaseEstimator, TransformerMixin):\n",
        "    \"\"\"\n",
        "    Transformer to select a single column from the data frame to perform additional transformations on\n",
        "    \"\"\"\n",
        "    def __init__(self, key):\n",
        "        self.key = key\n",
        "\n",
        "    def fit(self, X, y=None):\n",
        "        return self\n",
        "\n",
        "    def transform(self, X):\n",
        "        return X[self.key]\n",
        "    \n",
        "class NumberSelector(BaseEstimator, TransformerMixin):\n",
        "    \"\"\"\n",
        "    Transformer to select a single column from the data frame to perform additional transformations on\n",
        "    Use on numeric columns in the data\n",
        "    \"\"\"\n",
        "    def __init__(self, key):\n",
        "        self.key = key\n",
        "\n",
        "    def fit(self, X, y=None):\n",
        "        return self\n",
        "\n",
        "    def transform(self, X):\n",
        "        return X[[self.key]]\n",
        "    \n",
        "class OHEEncoder(BaseEstimator, TransformerMixin):\n",
        "    def __init__(self, key):\n",
        "        self.key = key\n",
        "        self.columns = []\n",
        "\n",
        "    def fit(self, X, y=None):\n",
        "        self.columns = [col for col in pd.get_dummies(X, prefix=self.key).columns]\n",
        "        return self\n",
        "\n",
        "    def transform(self, X):\n",
        "        X = pd.get_dummies(X, prefix=self.key)\n",
        "        test_columns = [col for col in X.columns]\n",
        "        for col_ in test_columns:\n",
        "            if col_ not in self.columns:\n",
        "                X[col_] = 0\n",
        "        return X[self.columns]\n",
        "\n",
        "gender = Pipeline([\n",
        "                ('selector', ColumnSelector(key='gender')),\n",
        "                ('ohe', OHEEncoder(key='gender'))\n",
        "            ])"
      ]
    },
    {
      "cell_type": "markdown",
      "metadata": {
        "id": "fR0X-zetEL0W"
      },
      "source": [
        "##### 11. Вызовите метод fit_transform у пайплайна gender и передайте туда нашу тренировочную выборку (пример по ссылке из документации https://scikit-learn.org/stable/modules/generated/sklearn.pipeline.Pipeline.html#sklearn.pipeline.Pipeline.fit)"
      ]
    },
    {
      "cell_type": "code",
      "execution_count": 284,
      "metadata": {
        "colab": {
          "base_uri": "https://localhost:8080/",
          "height": 408
        },
        "id": "xlvPxuiNEL0W",
        "outputId": "5a6d4a46-bb82-4520-ccee-d9b4cdf63844"
      },
      "outputs": [
        {
          "output_type": "execute_result",
          "data": {
            "text/html": [
              "\n",
              "  <div id=\"df-a84eeb42-a64d-410b-b983-eb203b90d7eb\">\n",
              "    <div class=\"colab-df-container\">\n",
              "      <div>\n",
              "<style scoped>\n",
              "    .dataframe tbody tr th:only-of-type {\n",
              "        vertical-align: middle;\n",
              "    }\n",
              "\n",
              "    .dataframe tbody tr th {\n",
              "        vertical-align: top;\n",
              "    }\n",
              "\n",
              "    .dataframe thead th {\n",
              "        text-align: right;\n",
              "    }\n",
              "</style>\n",
              "<table border=\"1\" class=\"dataframe\">\n",
              "  <thead>\n",
              "    <tr style=\"text-align: right;\">\n",
              "      <th></th>\n",
              "      <th>gender_Female</th>\n",
              "      <th>gender_Male</th>\n",
              "    </tr>\n",
              "  </thead>\n",
              "  <tbody>\n",
              "    <tr>\n",
              "      <th>298</th>\n",
              "      <td>0</td>\n",
              "      <td>1</td>\n",
              "    </tr>\n",
              "    <tr>\n",
              "      <th>3318</th>\n",
              "      <td>0</td>\n",
              "      <td>1</td>\n",
              "    </tr>\n",
              "    <tr>\n",
              "      <th>5586</th>\n",
              "      <td>1</td>\n",
              "      <td>0</td>\n",
              "    </tr>\n",
              "    <tr>\n",
              "      <th>6654</th>\n",
              "      <td>1</td>\n",
              "      <td>0</td>\n",
              "    </tr>\n",
              "    <tr>\n",
              "      <th>5362</th>\n",
              "      <td>0</td>\n",
              "      <td>1</td>\n",
              "    </tr>\n",
              "    <tr>\n",
              "      <th>...</th>\n",
              "      <td>...</td>\n",
              "      <td>...</td>\n",
              "    </tr>\n",
              "    <tr>\n",
              "      <th>3772</th>\n",
              "      <td>0</td>\n",
              "      <td>1</td>\n",
              "    </tr>\n",
              "    <tr>\n",
              "      <th>5191</th>\n",
              "      <td>1</td>\n",
              "      <td>0</td>\n",
              "    </tr>\n",
              "    <tr>\n",
              "      <th>5226</th>\n",
              "      <td>0</td>\n",
              "      <td>1</td>\n",
              "    </tr>\n",
              "    <tr>\n",
              "      <th>5390</th>\n",
              "      <td>0</td>\n",
              "      <td>1</td>\n",
              "    </tr>\n",
              "    <tr>\n",
              "      <th>860</th>\n",
              "      <td>0</td>\n",
              "      <td>1</td>\n",
              "    </tr>\n",
              "  </tbody>\n",
              "</table>\n",
              "<p>4718 rows × 2 columns</p>\n",
              "</div>\n",
              "      <button class=\"colab-df-convert\" onclick=\"convertToInteractive('df-a84eeb42-a64d-410b-b983-eb203b90d7eb')\"\n",
              "              title=\"Convert this dataframe to an interactive table.\"\n",
              "              style=\"display:none;\">\n",
              "        \n",
              "  <svg xmlns=\"http://www.w3.org/2000/svg\" height=\"24px\"viewBox=\"0 0 24 24\"\n",
              "       width=\"24px\">\n",
              "    <path d=\"M0 0h24v24H0V0z\" fill=\"none\"/>\n",
              "    <path d=\"M18.56 5.44l.94 2.06.94-2.06 2.06-.94-2.06-.94-.94-2.06-.94 2.06-2.06.94zm-11 1L8.5 8.5l.94-2.06 2.06-.94-2.06-.94L8.5 2.5l-.94 2.06-2.06.94zm10 10l.94 2.06.94-2.06 2.06-.94-2.06-.94-.94-2.06-.94 2.06-2.06.94z\"/><path d=\"M17.41 7.96l-1.37-1.37c-.4-.4-.92-.59-1.43-.59-.52 0-1.04.2-1.43.59L10.3 9.45l-7.72 7.72c-.78.78-.78 2.05 0 2.83L4 21.41c.39.39.9.59 1.41.59.51 0 1.02-.2 1.41-.59l7.78-7.78 2.81-2.81c.8-.78.8-2.07 0-2.86zM5.41 20L4 18.59l7.72-7.72 1.47 1.35L5.41 20z\"/>\n",
              "  </svg>\n",
              "      </button>\n",
              "      \n",
              "  <style>\n",
              "    .colab-df-container {\n",
              "      display:flex;\n",
              "      flex-wrap:wrap;\n",
              "      gap: 12px;\n",
              "    }\n",
              "\n",
              "    .colab-df-convert {\n",
              "      background-color: #E8F0FE;\n",
              "      border: none;\n",
              "      border-radius: 50%;\n",
              "      cursor: pointer;\n",
              "      display: none;\n",
              "      fill: #1967D2;\n",
              "      height: 32px;\n",
              "      padding: 0 0 0 0;\n",
              "      width: 32px;\n",
              "    }\n",
              "\n",
              "    .colab-df-convert:hover {\n",
              "      background-color: #E2EBFA;\n",
              "      box-shadow: 0px 1px 2px rgba(60, 64, 67, 0.3), 0px 1px 3px 1px rgba(60, 64, 67, 0.15);\n",
              "      fill: #174EA6;\n",
              "    }\n",
              "\n",
              "    [theme=dark] .colab-df-convert {\n",
              "      background-color: #3B4455;\n",
              "      fill: #D2E3FC;\n",
              "    }\n",
              "\n",
              "    [theme=dark] .colab-df-convert:hover {\n",
              "      background-color: #434B5C;\n",
              "      box-shadow: 0px 1px 3px 1px rgba(0, 0, 0, 0.15);\n",
              "      filter: drop-shadow(0px 1px 2px rgba(0, 0, 0, 0.3));\n",
              "      fill: #FFFFFF;\n",
              "    }\n",
              "  </style>\n",
              "\n",
              "      <script>\n",
              "        const buttonEl =\n",
              "          document.querySelector('#df-a84eeb42-a64d-410b-b983-eb203b90d7eb button.colab-df-convert');\n",
              "        buttonEl.style.display =\n",
              "          google.colab.kernel.accessAllowed ? 'block' : 'none';\n",
              "\n",
              "        async function convertToInteractive(key) {\n",
              "          const element = document.querySelector('#df-a84eeb42-a64d-410b-b983-eb203b90d7eb');\n",
              "          const dataTable =\n",
              "            await google.colab.kernel.invokeFunction('convertToInteractive',\n",
              "                                                     [key], {});\n",
              "          if (!dataTable) return;\n",
              "\n",
              "          const docLinkHtml = 'Like what you see? Visit the ' +\n",
              "            '<a target=\"_blank\" href=https://colab.research.google.com/notebooks/data_table.ipynb>data table notebook</a>'\n",
              "            + ' to learn more about interactive tables.';\n",
              "          element.innerHTML = '';\n",
              "          dataTable['output_type'] = 'display_data';\n",
              "          await google.colab.output.renderOutput(dataTable, element);\n",
              "          const docLink = document.createElement('div');\n",
              "          docLink.innerHTML = docLinkHtml;\n",
              "          element.appendChild(docLink);\n",
              "        }\n",
              "      </script>\n",
              "    </div>\n",
              "  </div>\n",
              "  "
            ],
            "text/plain": [
              "      gender_Female  gender_Male\n",
              "298               0            1\n",
              "3318              0            1\n",
              "5586              1            0\n",
              "6654              1            0\n",
              "5362              0            1\n",
              "...             ...          ...\n",
              "3772              0            1\n",
              "5191              1            0\n",
              "5226              0            1\n",
              "5390              0            1\n",
              "860               0            1\n",
              "\n",
              "[4718 rows x 2 columns]"
            ]
          },
          "metadata": {},
          "execution_count": 284
        }
      ],
      "source": [
        "#Ваш код здесь\n",
        "gender.fit_transform(X_train)"
      ]
    },
    {
      "cell_type": "markdown",
      "metadata": {
        "id": "QKMy2wSuEL0X"
      },
      "source": [
        "##### 12. Здесь код писать уже не нужно (все сделано за вас). К полю tenure применяем StandardScaler (нормируем и центрируем). Ссылка - https://scikit-learn.org/stable/modules/generated/sklearn.preprocessing.StandardScaler.html\n",
        "Вопрос - в каких случаях это может быть полезно?"
      ]
    },
    {
      "cell_type": "markdown",
      "source": [
        "**Ответ:** полезно в случае если значения в столбцах отличаются на порядки "
      ],
      "metadata": {
        "id": "uVbYIk0FXIiy"
      }
    },
    {
      "cell_type": "code",
      "execution_count": 285,
      "metadata": {
        "id": "Mh0aL0P5EL0X"
      },
      "outputs": [],
      "source": [
        "from sklearn.preprocessing import StandardScaler\n",
        "\n",
        "tenure =  Pipeline([\n",
        "                ('selector', NumberSelector(key='tenure')),\n",
        "                ('standard', StandardScaler())\n",
        "            ])"
      ]
    },
    {
      "cell_type": "markdown",
      "metadata": {
        "id": "Dw-N-3UnEL0X"
      },
      "source": [
        "##### 13. Напишите аналогичный (как для tenure) преобразователь поля TotalCharges"
      ]
    },
    {
      "cell_type": "code",
      "execution_count": 286,
      "metadata": {
        "id": "pcy0zCmZEL0X"
      },
      "outputs": [],
      "source": [
        "#Ваш код здесь\n",
        "TotalCharges =  Pipeline([\n",
        "                ('selector', NumberSelector(key='TotalCharges')),\n",
        "                ('standard', StandardScaler())\n",
        "            ])"
      ]
    },
    {
      "cell_type": "markdown",
      "metadata": {
        "id": "slsdz6LsEL0X"
      },
      "source": [
        "Объединение всех \"кубиков\" очень легко сделать таким образом"
      ]
    },
    {
      "cell_type": "code",
      "execution_count": 287,
      "metadata": {
        "id": "g3JF0zlxEL0X"
      },
      "outputs": [],
      "source": [
        "from sklearn.pipeline import FeatureUnion\n",
        "\n",
        "number_features = Pipeline([\n",
        "                ('selector', ColumnSelector(key=['PhoneService',\n",
        "                                                 'StreamingMovies', 'StreamingTV', \n",
        "                                                 'TechSupport']))\n",
        "            ])"
      ]
    },
    {
      "cell_type": "code",
      "execution_count": 288,
      "metadata": {
        "id": "r1tVMy5_EL0Y"
      },
      "outputs": [],
      "source": [
        "feats = FeatureUnion([('tenure', tenure),\n",
        "                      ('TotalCharges', TotalCharges),\n",
        "                      ('continuos_features', number_features),\n",
        "                      ('gender', gender)])\n",
        "feature_processing = Pipeline([('feats', feats)])"
      ]
    },
    {
      "cell_type": "markdown",
      "metadata": {
        "id": "el8UbJlcEL0Y"
      },
      "source": [
        "На этом этапе что мы сделали:\n",
        "1. написали преобразователь поля gender, который делает OHE кодирование\n",
        "2. написали преобразователь для поля tenure, который нормирует и центрирует его \n",
        "3. повторили п. 2 для поля TotalCharges\n",
        "3. для всех остальных просто взяли признаки как они есть, без изменений"
      ]
    },
    {
      "cell_type": "markdown",
      "metadata": {
        "id": "fboLBzJtEL0Y"
      },
      "source": [
        "У нас уже готов наш пайплайн, который преобразовывает признаки. Давайте обучим модель поверх него. В качестве модели возьмем RandomForestClassifier"
      ]
    },
    {
      "cell_type": "code",
      "execution_count": 289,
      "metadata": {
        "colab": {
          "base_uri": "https://localhost:8080/"
        },
        "id": "vRT6KNEeEL0Y",
        "outputId": "205d35a5-d641-4b69-f4d4-a3f14750f8a9"
      },
      "outputs": [
        {
          "output_type": "execute_result",
          "data": {
            "text/plain": [
              "Pipeline(steps=[('features',\n",
              "                 FeatureUnion(transformer_list=[('tenure',\n",
              "                                                 Pipeline(steps=[('selector',\n",
              "                                                                  NumberSelector(key='tenure')),\n",
              "                                                                 ('standard',\n",
              "                                                                  StandardScaler())])),\n",
              "                                                ('TotalCharges',\n",
              "                                                 Pipeline(steps=[('selector',\n",
              "                                                                  NumberSelector(key='TotalCharges')),\n",
              "                                                                 ('standard',\n",
              "                                                                  StandardScaler())])),\n",
              "                                                ('continuos_features',\n",
              "                                                 Pipeline(steps=[('selector',\n",
              "                                                                  ColumnSelector(key=['PhoneService',\n",
              "                                                                                      'StreamingMovies',\n",
              "                                                                                      'StreamingTV',\n",
              "                                                                                      'TechSupport']))])),\n",
              "                                                ('gender',\n",
              "                                                 Pipeline(steps=[('selector',\n",
              "                                                                  ColumnSelector(key='gender')),\n",
              "                                                                 ('ohe',\n",
              "                                                                  OHEEncoder(key='gender'))]))])),\n",
              "                ('classifier', RandomForestClassifier(random_state=42))])"
            ]
          },
          "metadata": {},
          "execution_count": 289
        }
      ],
      "source": [
        "from sklearn.ensemble import RandomForestClassifier\n",
        "\n",
        "pipeline = Pipeline([\n",
        "    ('features',feats),\n",
        "    ('classifier', RandomForestClassifier(random_state = 42)),\n",
        "])\n",
        "\n",
        "pipeline.fit(X_train, y_train)"
      ]
    },
    {
      "cell_type": "markdown",
      "metadata": {
        "id": "XF1HDJJnEL0Y"
      },
      "source": [
        "##### 14. Сделайте прогноз вероятности оттока для X_test с помощью нашего предобученного на предыдущем шаге пайплайна и убедитесь что вам возвращаются вероятности для 2 классов"
      ]
    },
    {
      "cell_type": "code",
      "execution_count": 290,
      "metadata": {
        "id": "4Q9kQ_mNEL0Z"
      },
      "outputs": [],
      "source": [
        "#Ваш код здесь\n",
        "prognoz=pipeline.predict(X_test)\n"
      ]
    },
    {
      "cell_type": "markdown",
      "metadata": {
        "id": "7JLllmH6EL0Z"
      },
      "source": [
        "##### 15. Посчитайте метрики качества получившейся модели (roc_auc, logloss)"
      ]
    },
    {
      "cell_type": "code",
      "execution_count": 291,
      "metadata": {
        "colab": {
          "base_uri": "https://localhost:8080/"
        },
        "id": "okEjr-sHEL0Z",
        "outputId": "1c707bd7-693b-419e-e340-1f51cf0bda29"
      },
      "outputs": [
        {
          "output_type": "execute_result",
          "data": {
            "text/plain": [
              "0.6786033990293849"
            ]
          },
          "metadata": {},
          "execution_count": 291
        }
      ],
      "source": [
        "from sklearn.metrics import roc_auc_score, log_loss\n",
        "\n",
        "#Ваш код здесь\n",
        "roc_auc_score(y_test,prognoz)"
      ]
    },
    {
      "cell_type": "code",
      "source": [
        "log_loss(y_test, prognoz)"
      ],
      "metadata": {
        "colab": {
          "base_uri": "https://localhost:8080/"
        },
        "id": "F0JojxKeYAg2",
        "outputId": "5ec69953-ab83-4bc6-8ac0-face67e8a64e"
      },
      "execution_count": 292,
      "outputs": [
        {
          "output_type": "execute_result",
          "data": {
            "text/plain": [
              "8.036839716940413"
            ]
          },
          "metadata": {},
          "execution_count": 292
        }
      ]
    },
    {
      "cell_type": "markdown",
      "metadata": {
        "id": "e8ZW1ZEzEL0Z"
      },
      "source": [
        "### Сохраним наш пайплайн"
      ]
    },
    {
      "cell_type": "code",
      "execution_count": 293,
      "metadata": {
        "id": "NgjoWdnSEL0Z"
      },
      "outputs": [],
      "source": [
        "import dill\n",
        "with open(\"model_RF.dill\", \"wb\") as f:\n",
        "    dill.dump(pipeline, f)"
      ]
    },
    {
      "cell_type": "markdown",
      "source": [
        "Сохранила"
      ],
      "metadata": {
        "id": "aXrvmzR2YLrn"
      }
    }
  ],
  "metadata": {
    "kernelspec": {
      "display_name": "Python 3",
      "language": "python",
      "name": "python3"
    },
    "language_info": {
      "codemirror_mode": {
        "name": "ipython",
        "version": 3
      },
      "file_extension": ".py",
      "mimetype": "text/x-python",
      "name": "python",
      "nbconvert_exporter": "python",
      "pygments_lexer": "ipython3",
      "version": "3.8.3"
    },
    "colab": {
      "name": "HW1.ipynb",
      "provenance": [],
      "include_colab_link": true
    }
  },
  "nbformat": 4,
  "nbformat_minor": 0
}